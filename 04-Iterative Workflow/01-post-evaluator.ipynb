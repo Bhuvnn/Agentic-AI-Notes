{
 "cells": [
  {
   "cell_type": "code",
   "execution_count": 27,
   "id": "49a7e057",
   "metadata": {},
   "outputs": [
    {
     "data": {
      "text/plain": [
       "True"
      ]
     },
     "execution_count": 27,
     "metadata": {},
     "output_type": "execute_result"
    }
   ],
   "source": [
    "from langgraph.graph import StateGraph,START,END\n",
    "from typing import TypedDict,Literal,Annotated\n",
    "from langchain_google_genai.chat_models import ChatGoogleGenerativeAI\n",
    "from langchain_core.messages import SystemMessage,HumanMessage\n",
    "from langchain.prompts import PromptTemplate\n",
    "import os\n",
    "from dotenv import load_dotenv\n",
    "load_dotenv()"
   ]
  },
  {
   "cell_type": "code",
   "execution_count": 28,
   "id": "df5bd716",
   "metadata": {},
   "outputs": [],
   "source": [
    "api_key=os.getenv(\"GEMINI_KEY\")\n",
    "llm=ChatGoogleGenerativeAI(model=\"gemini-2.5-flash\",api_key=api_key) "
   ]
  },
  {
   "cell_type": "code",
   "execution_count": 34,
   "id": "91b1db98",
   "metadata": {},
   "outputs": [],
   "source": [
    "class tweetState(TypedDict):\n",
    "    topic:str\n",
    "    tweet:str\n",
    "    evaluation:Literal[\"approved\",\"not approved\"]\n",
    "    iteration:int\n",
    "    max_iteration:int"
   ]
  },
  {
   "cell_type": "code",
   "execution_count": 30,
   "id": "1a9e99de",
   "metadata": {},
   "outputs": [],
   "source": [
    "def generate_tweet(state:tweetState):\n",
    "    topic=state[\"topic\"]\n",
    "    messages=[SystemMessage(content=\"You are a funny Twitter/X influencer\"),\n",
    "              HumanMessage(content=f'''\n",
    "write a short, original and hilarious tweet on the topic: {topic}\n",
    "Rules:\n",
    "- Do Not use question answer format.\n",
    "- Max. 280 characters.\n",
    "- use Observational, Meta Joke, or Pop culture references \n",
    "''')]\n",
    "    \n",
    "    response=llm.invoke(messages)\n",
    "    return {\"tweet\":response.content}\n",
    "\n",
    "def evaluate_tweet(state:tweetState):\n",
    "    tweet=state[\"tweet\"]\n",
    "    template='''\n",
    "based on the given tweet: {tweet} Evaluate it properly\n",
    "on the basis following rules \n",
    "Rules:\n",
    "- Do Not use question answer format.\n",
    "- Max. 280 characters.\n",
    "- use Observational, Meta Joke, or Pop culture references\n",
    "\n",
    "and provide result in either 'approved' or 'not approved'\n",
    "'''\n",
    "    prompt=PromptTemplate(template=template,input_variables=[\"tweet\"])\n",
    "\n",
    "    chain=prompt|llm\n",
    "    result=chain.invoke({\"tweet\":tweet})\n",
    "\n",
    "    return {\"evaluation\":result.content}\n",
    "\n",
    "def optimize_tweet(state:tweetState):\n",
    "    tweet=state[\"tweet\"]\n",
    "    template='''Improve the following tweet:{tweet}, make it funny, Pop cultured'''\n",
    "    prompt=PromptTemplate(template=template,input_variables=[\"tweet\"])\n",
    "    chain=prompt|llm\n",
    "    result=chain.invoke({\"tweet\":tweet})\n",
    "    iteration=state[\"iteration\"]+1\n",
    "    return {\"tweet\":result,\"iteration\":iteration}\n",
    "    \n"
   ]
  },
  {
   "cell_type": "code",
   "execution_count": 31,
   "id": "3c0597e2",
   "metadata": {},
   "outputs": [],
   "source": [
    "def check_tweet(state:tweetState):\n",
    "    if state[\"evaluation\"]==\"approved\" or state[\"iteration\"]>state[\"max_iteration\"]:\n",
    "        return \"approved\"\n",
    "    else:\n",
    "        return \"not approved\""
   ]
  },
  {
   "cell_type": "code",
   "execution_count": 32,
   "id": "83f71d89",
   "metadata": {},
   "outputs": [],
   "source": [
    "graph=StateGraph(tweetState)\n",
    "\n",
    "graph.add_node(\"generate_tweet\",generate_tweet)\n",
    "graph.add_node(\"evaluate_tweet\",evaluate_tweet)\n",
    "graph.add_node(\"optimize_tweet\",optimize_tweet)\n",
    "\n",
    "graph.add_edge(START,\"generate_tweet\")\n",
    "graph.add_edge(\"generate_tweet\",\"evaluate_tweet\")\n",
    "\n",
    "graph.add_conditional_edges(\"evaluate_tweet\",check_tweet,{'approved':END,'not approved':\"optimize_tweet\"})\n",
    "graph.add_edge(\"optimize_tweet\",\"evaluate_tweet\")\n",
    "\n",
    "workflow=graph.compile()"
   ]
  },
  {
   "cell_type": "code",
   "execution_count": null,
   "id": "ca3501b5",
   "metadata": {},
   "outputs": [],
   "source": [
    "result=workflow.invoke({\"topic\":\"Government\",\"iteration\":1,\"max_iteration\":2})"
   ]
  },
  {
   "cell_type": "code",
   "execution_count": null,
   "id": "02a1fa5e",
   "metadata": {},
   "outputs": [],
   "source": []
  }
 ],
 "metadata": {
  "kernelspec": {
   "display_name": "agent-env",
   "language": "python",
   "name": "python3"
  },
  "language_info": {
   "codemirror_mode": {
    "name": "ipython",
    "version": 3
   },
   "file_extension": ".py",
   "mimetype": "text/x-python",
   "name": "python",
   "nbconvert_exporter": "python",
   "pygments_lexer": "ipython3",
   "version": "3.11.9"
  }
 },
 "nbformat": 4,
 "nbformat_minor": 5
}
