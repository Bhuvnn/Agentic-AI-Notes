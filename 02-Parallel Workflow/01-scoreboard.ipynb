{
 "cells": [
  {
   "cell_type": "code",
   "execution_count": 17,
   "id": "ac085b55",
   "metadata": {},
   "outputs": [],
   "source": [
    "from langgraph.graph import StateGraph,START,END\n",
    "from typing import TypedDict"
   ]
  },
  {
   "cell_type": "code",
   "execution_count": 23,
   "id": "ab36fc1f",
   "metadata": {},
   "outputs": [],
   "source": [
    "class ScoreState(TypedDict):\n",
    "    runs:int\n",
    "    balls:int\n",
    "    fours:int\n",
    "    sixes:int\n",
    "    \n",
    "    strike_rate:float\n",
    "    boundary_percentage:float\n",
    "    summary:str"
   ]
  },
  {
   "cell_type": "code",
   "execution_count": 34,
   "id": "6af98866",
   "metadata": {},
   "outputs": [],
   "source": [
    "def calculate_strike_rate(state:ScoreState)->ScoreState:\n",
    "    runs=state[\"runs\"]\n",
    "    balls=state[\"balls\"]\n",
    "\n",
    "    strike_rate=(runs/balls)*100\n",
    "\n",
    "    return {\"strike_rate\":strike_rate}\n",
    "\n",
    "def calculate_boundary_percentage(state:ScoreState)->ScoreState:\n",
    "    runs=state[\"runs\"]\n",
    "    boundaries=(state[\"fours\"]*4)+(state[\"sixes\"]*6)\n",
    "\n",
    "    boundary_percentage=(boundaries/runs)*100\n",
    "    return {\"boundary_percentage\":boundary_percentage}\n",
    "\n",
    "def summary(state:ScoreState)->ScoreState:\n",
    "    summary=f\" Strike Rate -> {state['strike_rate']} , Boundary Percentage -> {state['boundary_percentage']} \"\n",
    "    return {\"summary\":summary}\n"
   ]
  },
  {
   "cell_type": "code",
   "execution_count": 35,
   "id": "3522d2c6",
   "metadata": {},
   "outputs": [],
   "source": [
    "graph=StateGraph(ScoreState)\n",
    "\n",
    "graph.add_node(\"strike_rate\",calculate_strike_rate)\n",
    "graph.add_node(\"boundary_percentage\",calculate_boundary_percentage)\n",
    "graph.add_node(\"summary\",summary)\n",
    "\n",
    "''' \n",
    "In this following code we see parallel workflow, unlike before we move from start to one state,\n",
    "then to another state, but here multiple states start from START and then move simultaneously to\n",
    "third stage parallely and then ends with END node\n",
    "'''\n",
    "\n",
    "graph.add_edge(START,\"strike_rate\")\n",
    "graph.add_edge(START,\"boundary_percentage\")\n",
    "\n",
    "graph.add_edge(\"strike_rate\",\"summary\")\n",
    "graph.add_edge(\"boundary_percentage\",\"summary\")\n",
    "\n",
    "graph.add_edge(\"summary\",END)\n",
    "\n",
    "workflow=graph.compile()\n"
   ]
  },
  {
   "cell_type": "code",
   "execution_count": 36,
   "id": "4b00434d",
   "metadata": {},
   "outputs": [
    {
     "data": {
      "text/plain": [
       "{'runs': 200,\n",
       " 'balls': 100,\n",
       " 'fours': 10,\n",
       " 'sixes': 8,\n",
       " 'strike_rate': 200.0,\n",
       " 'boundary_percentage': 44.0,\n",
       " 'summary': ' Strike Rate -> 200.0 , Boundary Percentage -> 44.0 '}"
      ]
     },
     "execution_count": 36,
     "metadata": {},
     "output_type": "execute_result"
    }
   ],
   "source": [
    "result=workflow.invoke({\"runs\":200,\"balls\":100,\"fours\":10,\"sixes\":8})\n",
    "result"
   ]
  },
  {
   "cell_type": "code",
   "execution_count": null,
   "id": "e6a70b48",
   "metadata": {},
   "outputs": [],
   "source": []
  }
 ],
 "metadata": {
  "kernelspec": {
   "display_name": "agent-env",
   "language": "python",
   "name": "python3"
  },
  "language_info": {
   "codemirror_mode": {
    "name": "ipython",
    "version": 3
   },
   "file_extension": ".py",
   "mimetype": "text/x-python",
   "name": "python",
   "nbconvert_exporter": "python",
   "pygments_lexer": "ipython3",
   "version": "3.11.9"
  }
 },
 "nbformat": 4,
 "nbformat_minor": 5
}
