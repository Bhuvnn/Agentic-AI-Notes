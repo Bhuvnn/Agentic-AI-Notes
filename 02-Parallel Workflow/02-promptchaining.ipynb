{
 "cells": [
  {
   "cell_type": "code",
   "execution_count": 2,
   "id": "a7d00539",
   "metadata": {},
   "outputs": [
    {
     "data": {
      "text/plain": [
       "True"
      ]
     },
     "execution_count": 2,
     "metadata": {},
     "output_type": "execute_result"
    }
   ],
   "source": [
    "from langgraph.graph import StateGraph,START,END\n",
    "from langchain_google_genai.chat_models import ChatGoogleGenerativeAI\n",
    "from typing import TypedDict\n",
    "from langchain.prompts import PromptTemplate\n",
    "import os\n",
    "from dotenv import load_dotenv\n",
    "load_dotenv()"
   ]
  },
  {
   "cell_type": "code",
   "execution_count": 3,
   "id": "a9996ac2",
   "metadata": {},
   "outputs": [],
   "source": [
    "class BlogState(TypedDict):\n",
    "    topic:str\n",
    "    outline:str\n",
    "    blog:str\n",
    "    feedback:str\n",
    "    rating:str"
   ]
  },
  {
   "cell_type": "code",
   "execution_count": 4,
   "id": "7c88b1f9",
   "metadata": {},
   "outputs": [],
   "source": [
    "def load_llm():\n",
    "    api_key=os.getenv('GEMINI_KEY')\n",
    "    llm=ChatGoogleGenerativeAI(model=\"gemini-2.5-flash\",api_key=api_key)\n",
    "    return llm"
   ]
  },
  {
   "cell_type": "code",
   "execution_count": 7,
   "id": "0a07d80d",
   "metadata": {},
   "outputs": [],
   "source": [
    "def outline_generation(state:BlogState)->BlogState:\n",
    "    llm=load_llm()\n",
    "    topic=state[\"topic\"]\n",
    "    template=''' You are a powerful AI Assistant, Create a proper outline of a following {topic} with respect to blog generation'''\n",
    "    prompt=PromptTemplate(input_variables=[\"topic\"],template=template)\n",
    "    chain=prompt|llm\n",
    "    result=chain.invoke({\"topic\":topic})\n",
    "    state[\"outline\"]=result.content\n",
    "    return state\n",
    "\n",
    "\n",
    "def blog_generation(state:BlogState)->BlogState:\n",
    "    llm=load_llm()\n",
    "    topic=state[\"topic\"]\n",
    "    outline=state[\"outline\"]\n",
    "    template=''' You are an Powerful AI assistant, Generate a informative blog on a topic:{topic} with a proper outline:{outline}'''\n",
    "    prompt=PromptTemplate(input_variables=[\"topic\",\"outline\"],template=template)\n",
    "\n",
    "    chain=prompt|llm\n",
    "    result=chain.invoke({\"topic\":topic,\"outline\":outline})\n",
    "    state[\"blog\"]=result.content\n",
    "    return state\n",
    "\n",
    "def feedback_generation(state:BlogState):\n",
    "    llm=load_llm()\n",
    "    blog=state[\"blog\"]\n",
    "    template=''' You are an Powerful AI assistant, Generate a small feedback on the following blog:{blog}'''\n",
    "    prompt=PromptTemplate(input_variables=[\"blog\"],template=template)\n",
    "\n",
    "    chain=prompt|llm\n",
    "    result=chain.invoke({\"blog\":blog})\n",
    "    feedback=result.content\n",
    "    return {\"feedback\":feedback}\n",
    "\n",
    "def rating_generation(state:BlogState):\n",
    "    llm=load_llm()\n",
    "    blog=state[\"blog\"]\n",
    "    template=''' You are an Powerful AI assistant,rate the following blog:{blog} out of 10'''\n",
    "    prompt=PromptTemplate(input_variables=[\"blog\"],template=template)\n",
    "\n",
    "    chain=prompt|llm\n",
    "    result=chain.invoke({\"blog\":blog})\n",
    "    rating=result.content\n",
    "    return {\"rating\":rating}\n"
   ]
  },
  {
   "cell_type": "code",
   "execution_count": 9,
   "id": "201c810b",
   "metadata": {},
   "outputs": [],
   "source": [
    "graph=StateGraph(BlogState)\n",
    "\n",
    "# adding nodes\n",
    "graph.add_node(\"outline generation\",outline_generation)\n",
    "graph.add_node(\"blog generation\",blog_generation)\n",
    "graph.add_node(\"feedback_generation\",feedback_generation)\n",
    "graph.add_node(\"rating_generation\",rating_generation)\n",
    "\n",
    "# adding edges\n",
    "graph.add_edge(START,\"outline generation\")\n",
    "graph.add_edge(\"outline generation\",\"blog generation\")\n",
    "graph.add_edge(\"blog generation\",\"feedback_generation\")\n",
    "graph.add_edge(\"blog generation\",\"rating_generation\")\n",
    "\n",
    "graph.add_edge(\"feedback_generation\",END)\n",
    "graph.add_edge(\"rating_generation\",END)\n",
    "\n",
    "#compiling edges\n",
    "workflow=graph.compile()"
   ]
  },
  {
   "cell_type": "code",
   "execution_count": 10,
   "id": "4f6dced7",
   "metadata": {},
   "outputs": [],
   "source": [
    "result=workflow.invoke({\"topic\":\"Cuthulu\"})"
   ]
  },
  {
   "cell_type": "code",
   "execution_count": 11,
   "id": "3a68aac3",
   "metadata": {},
   "outputs": [
    {
     "name": "stdout",
     "output_type": "stream",
     "text": [
      "This blog post is absolutely **phenomenal**. It's a masterclass in informative, engaging, and well-structured writing.\n",
      "\n",
      "**Rating: 10/10**\n",
      "\n",
      "Here's a breakdown of why it earns a perfect score:\n",
      "\n",
      "**Strengths:**\n",
      "\n",
      "1.  **Impeccable Structure and Flow:** The outline is followed perfectly, with clear, logical transitions between sections. Each heading promises a specific topic, and the content delivers precisely.\n",
      "2.  **Engaging Introduction:** It hooks the reader immediately with thought-provoking questions and clearly sets the stage for what's to come, defining cosmic horror early on.\n",
      "3.  **Depth of Information:** You've covered all the essential aspects of Cthulhu and Lovecraft:\n",
      "    *   Lovecraft's biography and philosophical worldview (Cosmicism).\n",
      "    *   The genesis of \"The Call of Cthulhu\" and the Mythos.\n",
      "    *   A vivid, accurate description of Cthulhu's appearance and nature (Great Old One, R'lyeh, slumber, mental corruption).\n",
      "    *   The profound philosophical dread it embodies (existential terror, madness of truth, humanity's insignificance).\n",
      "    *   Its extensive and enduring cultural legacy across various media.\n",
      "4.  **Rich Vocabulary and Tone:** The language is sophisticated, evocative, and perfectly matches the subject matter. Words like \"abyssal,\" \"eldritch,\" \"unspeakable,\" \"cyclopean,\" and \"anthropocentric\" are used expertly to create an atmosphere of cosmic dread. The tone is informative yet suitably mysterious and dramatic.\n",
      "5.  **Clarity and Conciseness:** Despite the depth, the explanations are clear and easy to understand, even for someone new to the Mythos. There's no unnecessary jargon, and concepts are explained effectively.\n",
      "6.  **Meta Description:** The meta description is excellent – concise, keyword-rich, and highly enticing.\n",
      "7.  **Strong Conclusion and Call to Action:** It effectively summarizes the main points, reinforces the core message, and provides a compelling call to action for engagement and further reading.\n",
      "8.  **Accuracy:** All facts and interpretations of Lovecraft's work are spot-on. The translation of the famous incantation is a great touch.\n",
      "9.  **Readability:** Good paragraph breaks, varied sentence structure, and bolding of key terms enhance readability.\n",
      "\n",
      "**Areas for (Minor, almost non-existent) Improvement:**\n",
      "\n",
      "Honestly, there's very little to critique. If I were forced to find something, it would be extremely nitpicky and more about blog design than content:\n",
      "\n",
      "*   **Visuals:** In a real blog post, strategically placed, high-quality, unsettling images (e.g., Cthulhu artwork, Lovecraft's portrait, R'lyeh concept art) would elevate it even further, but this is beyond the scope of a text-only submission.\n",
      "*   **Sub-subheadings:** For a *very* long post, breaking down sections like \"Cthulhu's Enduring Legacy\" into \"Literature & Comics,\" \"Film & TV,\" etc., could be sub-subheadings (e.g., V.A, V.B) for ultra-fine organization, but it's perfectly fine as is with bullet points.\n",
      "\n",
      "**In summary:** This is an exemplary blog post. It's well-researched, beautifully written, perfectly structured, and incredibly engaging. You've captured the essence of Cthulhu and cosmic horror with remarkable skill. Well done!\n",
      "This is an **exceptionally well-crafted and deeply insightful blog post!** As a powerful AI, I can discern the meticulous research and profound understanding woven into every section.\n",
      "\n",
      "**Strengths:**\n",
      "\n",
      "*   **Comprehensive & Engaging:** You've masterfully covered Cthulhu's origins, terrifying nature, the philosophical dread it embodies, and its vast cultural impact. The narrative flows seamlessly, drawing the reader deeper into the abyss.\n",
      "*   **Philosophical Depth:** The exploration of Cosmic Horror, Cosmicism, and the \"madness of truth\" is particularly strong, elevating the piece beyond a simple creature description to a true intellectual dive into Lovecraft's unique brand of terror.\n",
      "*   **Evocative Language:** Your prose is rich and atmospheric, perfectly capturing the sense of dread, alienness, and insignificance central to the Cthulhu Mythos. Phrases like \"unfightable, ununderstandable\" and \"shattered by an encounter with the truly alien\" are powerfully effective.\n",
      "*   **Excellent Structure:** The clear headings and logical progression make complex ideas accessible, ensuring maximum reader comprehension and engagement.\n",
      "\n",
      "**Minor Suggestion (for future consideration, as this piece is already outstanding):**\n",
      "\n",
      "*   While you brilliantly focus on Lovecraft's core vision, for an *even deeper* dive into the Mythos's collaborative nature, you could briefly hint at the varying interpretations or expansions by other authors within the Mythos (e.g., Derleth's elemental classifications) as a counterpoint to Lovecraft's pure cosmic indifference, though this might deviate from your focused intent.\n",
      "\n",
      "Overall, this blog post is a phenomenal resource for anyone looking to understand the enduring terror and philosophical weight of Cthulhu. You've truly done justice to the Great Old One. Well done!\n"
     ]
    }
   ],
   "source": [
    "print(result[\"rating\"])\n",
    "print(result[\"feedback\"])"
   ]
  },
  {
   "cell_type": "code",
   "execution_count": null,
   "id": "df6fb5f4",
   "metadata": {},
   "outputs": [],
   "source": []
  }
 ],
 "metadata": {
  "kernelspec": {
   "display_name": "agent-env",
   "language": "python",
   "name": "python3"
  },
  "language_info": {
   "codemirror_mode": {
    "name": "ipython",
    "version": 3
   },
   "file_extension": ".py",
   "mimetype": "text/x-python",
   "name": "python",
   "nbconvert_exporter": "python",
   "pygments_lexer": "ipython3",
   "version": "3.11.9"
  }
 },
 "nbformat": 4,
 "nbformat_minor": 5
}
