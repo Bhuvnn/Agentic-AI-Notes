{
 "cells": [
  {
   "cell_type": "code",
   "execution_count": 19,
   "id": "c391b275",
   "metadata": {},
   "outputs": [],
   "source": [
    "from langgraph.graph import StateGraph,START,END\n",
    "from typing import TypedDict"
   ]
  },
  {
   "cell_type": "code",
   "execution_count": 20,
   "id": "bfe9fd47",
   "metadata": {},
   "outputs": [],
   "source": [
    "class quadstate(TypedDict):\n",
    "    a:int\n",
    "    b:int\n",
    "    c:int\n",
    "    d:float\n",
    "    result:str"
   ]
  },
  {
   "cell_type": "code",
   "execution_count": 21,
   "id": "76a4b549",
   "metadata": {},
   "outputs": [],
   "source": [
    "def calculate_discriminant(state:quadstate):\n",
    "    a=state[\"a\"]\n",
    "    b=state[\"b\"]\n",
    "    c=state[\"c\"]\n",
    "\n",
    "    d=(b*b)-(4*a*c)\n",
    "\n",
    "    return {\"d\":d}\n",
    "\n",
    "def real_roots(state:quadstate):\n",
    "    result=\"Roots are real\"\n",
    "    return {\"result\":result}\n",
    "\n",
    "def equal_roots(state:quadstate):\n",
    "    result=\"Roots are equal\"\n",
    "    return {\"result\":result}\n",
    "\n",
    "def imaginary_roots(state:quadstate):\n",
    "    result=\"Roots are Imaginary\"\n",
    "    return{\"result\":result}\n",
    "\n",
    "def check_condition(state:quadstate):\n",
    "    if state[\"d\"]>0:\n",
    "        return \"real roots\"\n",
    "    elif state[\"d\"]==9:\n",
    "        return \"equal roots\"\n",
    "    else:\n",
    "        return \"imaginary roots\""
   ]
  },
  {
   "cell_type": "code",
   "execution_count": 22,
   "id": "a6fba891",
   "metadata": {},
   "outputs": [],
   "source": [
    "graph=StateGraph(quadstate)\n",
    "\n",
    "graph.add_node(\"calculate discriminant\",calculate_discriminant)\n",
    "graph.add_node(\"real roots\",real_roots)\n",
    "graph.add_node(\"equal roots\",equal_roots)\n",
    "graph.add_node(\"imaginary roots\",imaginary_roots)\n",
    "\n",
    "graph.add_edge(START,\"calculate discriminant\")\n",
    "graph.add_conditional_edges(\"calculate discriminant\", check_condition)\n",
    "graph.add_edge(\"real roots\",END)\n",
    "graph.add_edge(\"equal roots\",END)\n",
    "graph.add_edge(\"imaginary roots\",END)\n",
    "\n",
    "\n",
    "workflow=graph.compile()\n",
    "                            \n"
   ]
  },
  {
   "cell_type": "code",
   "execution_count": 23,
   "id": "ebea3ce8",
   "metadata": {},
   "outputs": [
    {
     "data": {
      "text/plain": [
       "{'a': 1, 'b': 5, 'c': 6, 'd': 1, 'result': 'Roots are real'}"
      ]
     },
     "execution_count": 23,
     "metadata": {},
     "output_type": "execute_result"
    }
   ],
   "source": [
    "result=workflow.invoke({\"a\":1,\"b\":5,\"c\":6})\n",
    "result"
   ]
  },
  {
   "cell_type": "code",
   "execution_count": null,
   "id": "ff88efd6",
   "metadata": {},
   "outputs": [],
   "source": []
  }
 ],
 "metadata": {
  "kernelspec": {
   "display_name": "agent-env",
   "language": "python",
   "name": "python3"
  },
  "language_info": {
   "codemirror_mode": {
    "name": "ipython",
    "version": 3
   },
   "file_extension": ".py",
   "mimetype": "text/x-python",
   "name": "python",
   "nbconvert_exporter": "python",
   "pygments_lexer": "ipython3",
   "version": "3.11.9"
  }
 },
 "nbformat": 4,
 "nbformat_minor": 5
}
