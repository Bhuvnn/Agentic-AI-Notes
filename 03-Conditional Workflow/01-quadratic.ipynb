{
 "cells": [
  {
   "cell_type": "code",
   "execution_count": 1,
   "id": "c391b275",
   "metadata": {},
   "outputs": [],
   "source": [
    "from langgraph.graph import StateGraph\n",
    "from typing import TypedDict"
   ]
  },
  {
   "cell_type": "code",
   "execution_count": null,
   "id": "bfe9fd47",
   "metadata": {},
   "outputs": [],
   "source": [
    "class quadstate(TypedDict):\n",
    "    a:int\n",
    "    b:int\n",
    "    c:int\n",
    "    d:int\n",
    "    root1:int\n",
    "    root2:int"
   ]
  },
  {
   "cell_type": "code",
   "execution_count": null,
   "id": "a6fba891",
   "metadata": {},
   "outputs": [
    {
     "ename": "TypeError",
     "evalue": "StateGraph.add_node() missing 1 required positional argument: 'node'",
     "output_type": "error",
     "traceback": [
      "\u001b[31m---------------------------------------------------------------------------\u001b[39m",
      "\u001b[31mTypeError\u001b[39m                                 Traceback (most recent call last)",
      "\u001b[36mCell\u001b[39m\u001b[36m \u001b[39m\u001b[32mIn[3]\u001b[39m\u001b[32m, line 3\u001b[39m\n\u001b[32m      1\u001b[39m graph=StateGraph(quadstate)\n\u001b[32m----> \u001b[39m\u001b[32m3\u001b[39m \u001b[43mgraph\u001b[49m\u001b[43m.\u001b[49m\u001b[43madd_node\u001b[49m\u001b[43m(\u001b[49m\u001b[43m)\u001b[49m\n",
      "\u001b[31mTypeError\u001b[39m: StateGraph.add_node() missing 1 required positional argument: 'node'"
     ]
    }
   ],
   "source": [
    "graph=StateGraph(quadstate)\n",
    "\n",
    "graph.add_node(\"calculate discriminant\")"
   ]
  },
  {
   "cell_type": "code",
   "execution_count": null,
   "id": "ebea3ce8",
   "metadata": {},
   "outputs": [],
   "source": []
  }
 ],
 "metadata": {
  "kernelspec": {
   "display_name": "agent-env",
   "language": "python",
   "name": "python3"
  },
  "language_info": {
   "codemirror_mode": {
    "name": "ipython",
    "version": 3
   },
   "file_extension": ".py",
   "mimetype": "text/x-python",
   "name": "python",
   "nbconvert_exporter": "python",
   "pygments_lexer": "ipython3",
   "version": "3.11.9"
  }
 },
 "nbformat": 4,
 "nbformat_minor": 5
}
