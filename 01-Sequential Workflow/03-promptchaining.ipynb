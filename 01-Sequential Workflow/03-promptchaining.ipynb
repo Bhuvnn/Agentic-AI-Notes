{
 "cells": [
  {
   "cell_type": "code",
   "execution_count": 38,
   "id": "a7d00539",
   "metadata": {},
   "outputs": [
    {
     "data": {
      "text/plain": [
       "True"
      ]
     },
     "execution_count": 38,
     "metadata": {},
     "output_type": "execute_result"
    }
   ],
   "source": [
    "from langgraph.graph import StateGraph,START,END\n",
    "from langchain_google_genai.chat_models import ChatGoogleGenerativeAI\n",
    "from typing import TypedDict\n",
    "from langchain.prompts import PromptTemplate\n",
    "import os\n",
    "from dotenv import load_dotenv\n",
    "load_dotenv()"
   ]
  },
  {
   "cell_type": "code",
   "execution_count": 39,
   "id": "a9996ac2",
   "metadata": {},
   "outputs": [],
   "source": [
    "class BlogState(TypedDict):\n",
    "    topic:str\n",
    "    outline:str\n",
    "    blog:str"
   ]
  },
  {
   "cell_type": "code",
   "execution_count": 40,
   "id": "7c88b1f9",
   "metadata": {},
   "outputs": [],
   "source": [
    "def load_llm():\n",
    "    api_key=os.getenv('GEMINI_KEY')\n",
    "    llm=ChatGoogleGenerativeAI(model=\"gemini-2.5-flash\",api_key=api_key)\n",
    "    return llm"
   ]
  },
  {
   "cell_type": "code",
   "execution_count": 41,
   "id": "0a07d80d",
   "metadata": {},
   "outputs": [],
   "source": [
    "def outline_generation(state:BlogState)->BlogState:\n",
    "    llm=load_llm()\n",
    "    topic=state[\"topic\"]\n",
    "    template=''' You are a powerful AI Assistant, Create a proper outline of a following {topic} with respect to blog generation'''\n",
    "    prompt=PromptTemplate(input_variables=[\"topic\"],template=template)\n",
    "    chain=prompt|llm\n",
    "    result=chain.invoke({\"topic\":topic})\n",
    "    state[\"outline\"]=result.content\n",
    "    return state\n",
    "\n",
    "\n",
    "def blog_generation(state:BlogState)->BlogState:\n",
    "    llm=load_llm()\n",
    "    topic=state[\"topic\"]\n",
    "    outline=state[\"outline\"]\n",
    "    template=''' You are an Powerful AI assistant, Generate a informative blog on a topic:{topic} with a proper outline:{outline}'''\n",
    "    prompt=PromptTemplate(input_variables=[\"topic\",\"outline\"],template=template)\n",
    "\n",
    "    chain=prompt|llm\n",
    "    result=chain.invoke({\"topic\":topic,\"outline\":outline})\n",
    "    state[\"blog\"]=result.content\n",
    "    return state"
   ]
  },
  {
   "cell_type": "code",
   "execution_count": 42,
   "id": "201c810b",
   "metadata": {},
   "outputs": [],
   "source": [
    "graph=StateGraph(BlogState)\n",
    "\n",
    "# adding nodes\n",
    "graph.add_node(\"outline generation\",outline_generation)\n",
    "graph.add_node(\"blog generation\",blog_generation)\n",
    "\n",
    "# adding edges\n",
    "graph.add_edge(START,\"outline generation\")\n",
    "graph.add_edge(\"outline generation\",\"blog generation\")\n",
    "graph.add_edge(\"blog generation\",END)\n",
    "\n",
    "#compiling edges\n",
    "workflow=graph.compile()"
   ]
  },
  {
   "cell_type": "code",
   "execution_count": 43,
   "id": "4f6dced7",
   "metadata": {},
   "outputs": [],
   "source": [
    "result=workflow.invoke({\"topic\":\"Cuthulu\"})"
   ]
  },
  {
   "cell_type": "code",
   "execution_count": 47,
   "id": "3a68aac3",
   "metadata": {},
   "outputs": [
    {
     "name": "stdout",
     "output_type": "stream",
     "text": [
      "Excellent! As a powerful AI Assistant, I understand the nuances of creating an engaging, informative, and properly structured blog post, especially around a topic as rich and terrifying as Cthulhu.\n",
      "\n",
      "Here is a comprehensive outline for a blog post on Cthulhu, designed for maximum reader engagement, clarity, and SEO potential.\n",
      "\n",
      "---\n",
      "\n",
      "## Blog Post Outline: Awaken the Dread: A Deep Dive into H.P. Lovecraft's Cthulhu and Cosmic Horror\n",
      "\n",
      "**Target Audience:** Enthusiasts of horror, literature, mythology, and those curious about the origins of cosmic dread.\n",
      "\n",
      "**Tone:** Intriguing, slightly ominous, informative, respectful of the source material.\n",
      "\n",
      "**SEO Keywords:** Cthulhu, H.P. Lovecraft, Cosmic Horror, Great Old Ones, R'lyeh, The Call of Cthulhu, Eldritch Horror, Lovecraftian, Mythology, Horror Literature.\n",
      "\n",
      "---\n",
      "\n",
      "### **I. Catchy Title Options:**\n",
      "*   Awaken the Dread: A Deep Dive into H.P. Lovecraft's Cthulhu and Cosmic Horror\n",
      "*   Beyond the Veil: Unmasking the Terrifying Reality of Cthulhu\n",
      "*   Ph'nglui Mglw'nafh Cthulhu R'lyeh Wgah'nagl Fhtagn: Understanding Lovecraft's Most Iconic Monster\n",
      "*   The Sleep of Ages: Exploring Cthulhu and the Madness It Inspires\n",
      "\n",
      "### **II. Introduction (Approx. 150-200 words)**\n",
      "\n",
      "*   **A. Hook:**\n",
      "    *   Start with an evocative question or statement about primal fear, the unknown, or insignificance.\n",
      "    *   *Example:* \"Ever felt a chill that wasn't from the cold? A creeping sense that humanity is but a fleeting flicker in a vast, indifferent cosmos?\"\n",
      "*   **B. Introduce Cthulhu:**\n",
      "    *   Briefly name-drop Cthulhu and its association with cosmic dread.\n",
      "    *   Mention its iconic status in horror.\n",
      "*   **C. Thesis Statement:**\n",
      "    *   State what the blog post will cover: Cthulhu's origins, its nature, the philosophy of cosmic horror it embodies, and its enduring cultural impact.\n",
      "*   **D. Why It Matters:**\n",
      "    *   Explain why Cthulhu continues to fascinate and terrify audiences today.\n",
      "\n",
      "### **III. The Architect of Dread: H.P. Lovecraft & The Birth of Cthulhu (Approx. 300-400 words)**\n",
      "\n",
      "*   **A. H.P. Lovecraft: The Reclusive Genius**\n",
      "    *   Brief background on Lovecraft (Providence, reclusive nature, literary style).\n",
      "    *   His unique contribution to horror beyond ghosts and vampires.\n",
      "*   **B. \"The Call of Cthulhu\": The Genesis Story**\n",
      "    *   Introduce the foundational short story (published 1928).\n",
      "    *   Briefly outline its structure (narrative fragments, global cults, discovery of R'lyeh).\n",
      "    *   Highlight its immediate impact and the creation of the \"Cthulhu Mythos.\"\n",
      "*   **C. Understanding Cosmicism:**\n",
      "    *   Define Lovecraft's core philosophy: humanity's insignificance in the face of vast, uncaring cosmic entities.\n",
      "    *   Explain how Cthulhu is the ultimate embodiment of this philosophy.\n",
      "\n",
      "### **IV. Who (or What) is Cthulhu? An Eldritch Portrait (Approx. 400-500 words)**\n",
      "\n",
      "*   **A. Physical Description: A Nightmare Made Manifest**\n",
      "    *   Detail Cthulhu's iconic appearance: \"a monster of vaguely anthropoid outline, but with an octopus-like head whose face was a mass of feelers, a scaly, rubbery-looking body, prodigious claws on hind and fore feet, and long, narrow wings behind.\"\n",
      "    *   Emphasize the indescribable, sanity-blasting nature of its form.\n",
      "*   **B. The Great Old One: Beyond Good and Evil**\n",
      "    *   Explain Cthulhu's status as a \"Great Old One,\" an ancient, powerful alien entity.\n",
      "    *   Distinguish it from traditional \"evil\" monsters; Cthulhu is indifferent, not malevolent in a human sense. Its awakening is catastrophic simply because its existence is incompatible with human sanity.\n",
      "*   **C. R'lyeh: The Sunken City and Its Slumber**\n",
      "    *   Describe R'lyeh as the cyclopean, non-Euclidean city where Cthulhu lies dreaming \"dead but dreaming.\"\n",
      "    *   Explain the significance of its rising from the Pacific due to stellar conjunctions.\n",
      "*   **D. The Whisper of Madness: Cthulhu's Influence**\n",
      "    *   How Cthulhu communicates with sensitive minds through dreams, driving them to madness or inspiring cults.\n",
      "    *   The famous chant: \"Ph'nglui mglw'nafh Cthulhu R'lyeh wgah'nagl fhtagn\" (In his house at R'lyeh, dead Cthulhu waits dreaming).\n",
      "\n",
      "### **V. The Enduring Dread: Why Cthulhu Still Haunts Us (Approx. 300-400 words)**\n",
      "\n",
      "*   **A. The Power of the Unknown:**\n",
      "    *   Discuss how the fear of what we *can't* comprehend is often more potent than what we can.\n",
      "    *   Cthulhu represents the ultimate unknowable.\n",
      "*   **B. Existential Terror and Human Insignificance:**\n",
      "    *   Revisit cosmicism – the humbling (and terrifying) realization that humanity is not central to the universe.\n",
      "    *   Cthulhu is a constant reminder of our fragile place.\n",
      "*   **C. Beyond Jump Scares: Psychological Horror:**\n",
      "    *   How Lovecraftian horror, embodied by Cthulhu, focuses on psychological disintegration rather than simple gore.\n",
      "    *   The \"fear of knowing too much.\"\n",
      "\n",
      "### **VI. Cthulhu's Cultural Tentacles: Legacy and Influence (Approx. 300-400 words)**\n",
      "\n",
      "*   **A. Literature and Media:**\n",
      "    *   Mention direct sequels, inspired works, and authors who expanded the Mythos (August Derleth, etc.).\n",
      "    *   Influence on modern horror authors, sci-fi, and fantasy.\n",
      "*   **B. Gaming:**\n",
      "    *   Tabletop Role-Playing Games (e.g., *Call of Cthulhu* RPG).\n",
      "    *   Video Games (e.g., *Call of Cthulhu*, *Darkest Dungeon*, *Bloodborne*).\n",
      "    *   Board Games, card games.\n",
      "*   **C. Film, TV, and Art:**\n",
      "    *   Briefly mention adaptations (or lack thereof, due to its nature).\n",
      "    *   Influence on visual artists, musicians, and even pop culture memes.\n",
      "*   **D. Why the Resurgence?**\n",
      "    *   Speculate on why Cthulhu and cosmic horror resonate particularly strongly in contemporary times (anxiety about the future, climate change, vastness of space, etc.).\n",
      "\n",
      "### **VII. Conclusion (Approx. 150-200 words)**\n",
      "\n",
      "*   **A. Recap:**\n",
      "    *   Briefly summarize Cthulhu's origins, nature, and its representation of cosmic horror.\n",
      "    *   Reiterate its profound impact on the horror genre and beyond.\n",
      "*   **B. Final Thought/Call to Contemplation:**\n",
      "    *   End with a thought-provoking statement about the enduring power of cosmic dread.\n",
      "    *   *Example:* \"So the next time you gaze at the stars, remember the ancient horrors that slumber beyond our comprehension, patiently waiting for the stars to be right.\"\n",
      "*   **C. Call to Action (CTA):**\n",
      "    *   Encourage readers to explore Lovecraft's original works, especially \"The Call of Cthulhu.\"\n",
      "    *   Ask for comments: \"What's your favorite Cthulhu-inspired story or game?\"\n",
      "    *   Invite them to share their own experiences with cosmic horror.\n",
      "\n",
      "### **VIII. Optional Additions**\n",
      "\n",
      "*   **A. Further Reading/Resources:**\n",
      "    *   List key Lovecraft stories.\n",
      "    *   Recommend essential Cthulhu Mythos resources.\n",
      "*   **B. Author Bio (if applicable):**\n",
      "*   **C. Internal Links:**\n",
      "    *   Link to other relevant blog posts on your site (e.g., \"Understanding Lovecraftian Horror,\" \"Top 5 Cosmic Horror Novels\").\n",
      "*   **D. Visuals:**\n",
      "    *   Suggest strategic placement of images (Lovecraft's portrait, artist renditions of Cthulhu, R'lyeh, game art, etc.).\n",
      "\n",
      "---\n",
      "\n",
      "This outline provides a robust framework that balances historical context, character analysis, philosophical depth, and cultural impact, all while keeping the blog post format in mind.\n"
     ]
    }
   ],
   "source": [
    "print(result[\"outline\"])"
   ]
  },
  {
   "cell_type": "code",
   "execution_count": null,
   "id": "df6fb5f4",
   "metadata": {},
   "outputs": [],
   "source": []
  }
 ],
 "metadata": {
  "kernelspec": {
   "display_name": "agent-env",
   "language": "python",
   "name": "python3"
  },
  "language_info": {
   "codemirror_mode": {
    "name": "ipython",
    "version": 3
   },
   "file_extension": ".py",
   "mimetype": "text/x-python",
   "name": "python",
   "nbconvert_exporter": "python",
   "pygments_lexer": "ipython3",
   "version": "3.11.9"
  }
 },
 "nbformat": 4,
 "nbformat_minor": 5
}
