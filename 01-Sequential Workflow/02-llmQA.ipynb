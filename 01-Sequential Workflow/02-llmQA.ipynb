{
 "cells": [
  {
   "cell_type": "code",
   "execution_count": 7,
   "id": "3edfc573",
   "metadata": {},
   "outputs": [
    {
     "data": {
      "text/plain": [
       "True"
      ]
     },
     "execution_count": 7,
     "metadata": {},
     "output_type": "execute_result"
    }
   ],
   "source": [
    "from langchain_google_genai.chat_models import ChatGoogleGenerativeAI\n",
    "from langchain_core.output_parsers import StrOutputParser\n",
    "from langgraph.graph import StateGraph,START,END\n",
    "from typing import TypedDict\n",
    "import os\n",
    "from dotenv import load_dotenv\n",
    "load_dotenv()"
   ]
  },
  {
   "cell_type": "code",
   "execution_count": 3,
   "id": "dde8530a",
   "metadata": {},
   "outputs": [],
   "source": [
    "# Define state\n",
    "class qnaState(TypedDict):\n",
    "    question:str\n",
    "    answer:str\n"
   ]
  },
  {
   "cell_type": "code",
   "execution_count": 9,
   "id": "e05c7ca8",
   "metadata": {},
   "outputs": [],
   "source": [
    "def llm_questioning(state:qnaState) ->qnaState:\n",
    "    question=state[\"question\"]\n",
    "    api_key=os.getenv(\"GEMINI_KEY\")\n",
    "    llm=ChatGoogleGenerativeAI(model=\"gemini-2.5-flash\",api_key=api_key)\n",
    "    result=llm.invoke(question)\n",
    "    state[\"answer\"]=result.content\n",
    "    return state"
   ]
  },
  {
   "cell_type": "code",
   "execution_count": 10,
   "id": "144d7180",
   "metadata": {},
   "outputs": [],
   "source": [
    "graph=StateGraph(qnaState)\n",
    "\n",
    "# add nodes\n",
    "graph.add_node(\"llm_questioning\",llm_questioning)\n",
    "\n",
    "# add edges\n",
    "graph.add_edge(START,\"llm_questioning\")\n",
    "graph.add_edge(\"llm_questioning\",END)\n",
    "\n",
    "# compiling graph\n",
    "workflow=graph.compile()"
   ]
  },
  {
   "cell_type": "code",
   "execution_count": 13,
   "id": "4005f907",
   "metadata": {},
   "outputs": [
    {
     "name": "stdout",
     "output_type": "stream",
     "text": [
      "There are **28 states** in India.\n"
     ]
    }
   ],
   "source": [
    "result=workflow.invoke({\"question\":\"How many states are there in India\"})\n",
    "print(result[\"answer\"])"
   ]
  },
  {
   "cell_type": "code",
   "execution_count": null,
   "id": "2d06e411",
   "metadata": {},
   "outputs": [],
   "source": []
  }
 ],
 "metadata": {
  "kernelspec": {
   "display_name": "agent-env",
   "language": "python",
   "name": "python3"
  },
  "language_info": {
   "codemirror_mode": {
    "name": "ipython",
    "version": 3
   },
   "file_extension": ".py",
   "mimetype": "text/x-python",
   "name": "python",
   "nbconvert_exporter": "python",
   "pygments_lexer": "ipython3",
   "version": "3.11.9"
  }
 },
 "nbformat": 4,
 "nbformat_minor": 5
}
