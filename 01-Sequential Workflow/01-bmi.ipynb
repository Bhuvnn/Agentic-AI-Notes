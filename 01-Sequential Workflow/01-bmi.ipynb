{
 "cells": [
  {
   "cell_type": "code",
   "execution_count": 22,
   "id": "4eced4c2",
   "metadata": {},
   "outputs": [],
   "source": [
    "from langgraph.graph import StateGraph,START,END\n",
    "from typing import TypedDict"
   ]
  },
  {
   "cell_type": "code",
   "execution_count": 23,
   "id": "98ed923f",
   "metadata": {},
   "outputs": [],
   "source": [
    "# define state\n",
    "class BMIstate(TypedDict):\n",
    "    weight_kg:float\n",
    "    height_m:float\n",
    "    bmi:float\n",
    "    fitness:str"
   ]
  },
  {
   "cell_type": "code",
   "execution_count": 24,
   "id": "fa65de42",
   "metadata": {},
   "outputs": [],
   "source": [
    "''' in functions or tasks done in langragh we need to mention type hinting inside the\n",
    "function like we did here, usually in langgraph when a task is to be executed,\n",
    "it always gets a state as an input and then returns the state as an output\n",
    "\n",
    "E.g.\n",
    "'' \n",
    "state:BMIstate is used to mention the type of parameter\n",
    "\n",
    "-> BMIstate is used to decide the return type of the function\n",
    "\n",
    "both are the states\n",
    "'''\n",
    "def calculate_bmi(state:BMIstate) -> BMIstate:\n",
    "    weight=state[\"weight_kg\"]\n",
    "    height=state[\"height_m\"]\n",
    "    bmi=weight/(height**2)\n",
    "\n",
    "    state[\"bmi\"]=round(bmi,2)\n",
    "    return state\n",
    "\n",
    "def check_fitness(state:BMIstate)->BMIstate:\n",
    "    bmi=state[\"bmi\"]\n",
    "    if bmi<=20:\n",
    "        state[\"fitness\"]=\"Slim\"\n",
    "    elif bmi>=21 and bmi<=28:\n",
    "        state[\"fitness\"]=\"Fit\"\n",
    "    else:\n",
    "        state[\"fitness\"]=\"Obese\"\n",
    "    return state"
   ]
  },
  {
   "cell_type": "code",
   "execution_count": 25,
   "id": "801192d6",
   "metadata": {},
   "outputs": [],
   "source": [
    "# define a graph\n",
    "graph=StateGraph(BMIstate)\n",
    "\n",
    "# add nodes to your graph\n",
    "graph.add_node(\"calculate_bmi\",calculate_bmi) # calculate bmi here is a function or task to be executed\n",
    "graph.add_node(\"check_fitness\",check_fitness) # provides fitness info based on the bmi value from calculate_bmi\n",
    "\n",
    "# add edges to your graph\n",
    "graph.add_edge(START,\"calculate_bmi\")\n",
    "graph.add_edge(\"calculate_bmi\",\"check_fitness\")\n",
    "graph.add_edge(\"check_fitness\",END)\n",
    "\n",
    "# compile the graph\n",
    "workflow=graph.compile()\n"
   ]
  },
  {
   "cell_type": "code",
   "execution_count": 30,
   "id": "d1770f9f",
   "metadata": {},
   "outputs": [
    {
     "name": "stdout",
     "output_type": "stream",
     "text": [
      "{'weight_kg': 103, 'height_m': 1.8, 'bmi': 31.79, 'fitness': 'Obese'}\n"
     ]
    }
   ],
   "source": [
    "# execute the graph\n",
    "result=workflow.invoke({\"weight_kg\":103,\"height_m\":1.8})\n",
    "print(result)"
   ]
  },
  {
   "cell_type": "code",
   "execution_count": null,
   "id": "7a6a680b",
   "metadata": {},
   "outputs": [],
   "source": []
  }
 ],
 "metadata": {
  "kernelspec": {
   "display_name": "agent-env",
   "language": "python",
   "name": "python3"
  },
  "language_info": {
   "codemirror_mode": {
    "name": "ipython",
    "version": 3
   },
   "file_extension": ".py",
   "mimetype": "text/x-python",
   "name": "python",
   "nbconvert_exporter": "python",
   "pygments_lexer": "ipython3",
   "version": "3.11.9"
  }
 },
 "nbformat": 4,
 "nbformat_minor": 5
}
